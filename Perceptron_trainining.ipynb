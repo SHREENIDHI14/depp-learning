{
 "cells": [
  {
   "cell_type": "code",
   "execution_count": 1,
   "id": "188d4f9e-e32e-4cec-8d68-edd9f626bca8",
   "metadata": {},
   "outputs": [],
   "source": [
    "import numpy as np\n",
    "class snn:\n",
    "    def __init__(self,no_of_inputs):\n",
    "        self.input_length = no_of_inputs\n",
    "        self.weights_of_layers = []\n",
    "        \n",
    "    def add_hidden_Layer(self,layersize):\n",
    "        weights = []\n",
    "        if(len(self.weights_of_layers) == 0):\n",
    "            weights = [[0.5 for j in range(self.input_length+1)] for i in range(layersize)]\n",
    "        else:\n",
    "            weights = [[0.5 for j in range(len(self.weights_of_layers)+1)] for i in range(layersize)]\n",
    "        for each in weights:\n",
    "                each.append(0.3)\n",
    "        self.weights_of_layers.append(weights)\n",
    "    def add_output_layer(self,layersize):\n",
    "        weights = []\n",
    "        if(len(self.weights_of_layers) == 0):\n",
    "            weights = [[0.5 for j in range(self.input_length)] for i in range(layersize)]\n",
    "        else:\n",
    "            weights = [[0.5 for j in range(len(self.weights_of_layers))] for i in range(layersize)]\n",
    "        for each in weights:\n",
    "                each.append(0.3)\n",
    "        self.weights_of_layers.append(weights)\n",
    "    def predict(self,input_array):\n",
    "        if(len(input_array) == self.input_length):\n",
    "            matrix = np.append(input_array,[1])\n",
    "            for layer1 in self.weights_of_layers:\n",
    "                #print(layer1)\n",
    "                matrix = np.matmul(matrix,np.array(layer1).transpose())\n",
    "                #print(matrix)\n",
    "                for i in range(len(matrix)):\n",
    "                    matrix[i] = self.activation_function(matrix[i])\n",
    "                    \n",
    "            return matrix\n",
    "        else:\n",
    "            raise ValueError(\"input doesnt match\")\n",
    "    def decent_diretion(self,error):\n",
    "        if(error <= 0):\n",
    "            return -1\n",
    "        else:\n",
    "            return 1\n",
    "        \n",
    "    def activation_function(self,value):\n",
    "        if(value>0):\n",
    "            return 1\n",
    "        else:\n",
    "            return -1\n",
    "    def are_equal(self,a,b):\n",
    "        error = a-b\n",
    "        #print(\"a and b are\",a,b)\n",
    "        for each in error:\n",
    "            #print(np.absolute(each))\n",
    "            if(np.absolute(each) >0.5):\n",
    "                #print(\"returned false with each value \",each)\n",
    "                return False\n",
    "                break\n",
    "        return True\n",
    "    def iterate(self,x,y):\n",
    "        y_predict = self.predict(x)\n",
    "        #print(y_predict)\n",
    "        if(self.are_equal(y_predict,y) == True):\n",
    "            pass\n",
    "        else:\n",
    "            print(\"running the change in weights\")\n",
    "            print(\"weights before change\",self.weights_of_layers[-1])\n",
    "            input_ = np.append(x,[1])\n",
    "            #print(y_predict,y)\n",
    "            error = y[0] - y_predict[0]\n",
    "            #print(error)\n",
    "            direction = self.decent_diretion(error)\n",
    "            #print(self.weights_of_layers[-1])\n",
    "            #print(\"input is \",input_)\n",
    "            print(\"direction and error are \",direction,error)\n",
    "            for i in range(len(self.weights_of_layers[-1][0])):\n",
    "                #print(\"weight is\",self.weights_of_layers[-1][i],\"direction\",direction,\"input value\",input_[i])\n",
    "                self.weights_of_layers[-1][0][i] = self.weights_of_layers[-1][0][i] +  direction*(0.5)*input_[i]\n",
    "                \n",
    "            print(\"weights after changing\",self.weights_of_layers[-1])\n",
    "            self.iterate(x,y)\n",
    "        \n",
    "        \n",
    "                \n",
    "        \n",
    "        \n",
    "    def train(self,x_train,y_train):\n",
    "        if(len(x_train) == len(y_train)):\n",
    "            for i in range(len(x_train)):\n",
    "                print(x_train[i],y_train[i])\n",
    "                self.iterate(np.array(x_train[i]),np.array(y_train[i]))\n",
    "                print(self.getWeights())\n",
    "        else:\n",
    "            raise ValueError(\"please check the size\")\n",
    "       \n",
    "    def sigmoid(self,x):\n",
    "        return 1/(1 + np.exp(-x))\n",
    "    \n",
    "    def getParams(self):\n",
    "        print(\"No of inputs\",self.input_length)\n",
    "        print(\"No of outputs\",self.output_length)\n",
    "    def getWeights(self):\n",
    "        print(\"weights of hidden layer\",self.weights_of_layers)\n"
   ]
  },
  {
   "cell_type": "code",
   "execution_count": 2,
   "id": "21fd8ffa-33ad-4df7-973f-79787c968b98",
   "metadata": {},
   "outputs": [],
   "source": [
    "a = snn(2)"
   ]
  },
  {
   "cell_type": "code",
   "execution_count": 3,
   "id": "c562ca30-7021-4660-8340-64e862ce4a0d",
   "metadata": {},
   "outputs": [],
   "source": [
    "a.add_output_layer(1)"
   ]
  },
  {
   "cell_type": "code",
   "execution_count": 4,
   "id": "eb85bf3f-00fc-49d5-9f3f-3890de8b8b72",
   "metadata": {},
   "outputs": [
    {
     "name": "stdout",
     "output_type": "stream",
     "text": [
      "weights of hidden layer [[[0.5, 0.5, 0.3]]]\n"
     ]
    }
   ],
   "source": [
    "a.getWeights()"
   ]
  },
  {
   "cell_type": "code",
   "execution_count": 5,
   "id": "aaa8a26c-4ca4-4a0e-86d7-3dc6047803d6",
   "metadata": {},
   "outputs": [
    {
     "name": "stdout",
     "output_type": "stream",
     "text": [
      "[1, 1] [1]\n",
      "weights of hidden layer [[[0.5, 0.5, 0.3]]]\n",
      "None\n",
      "[2, -2] [-1]\n",
      "running the change in weights\n",
      "weights before change [[0.5, 0.5, 0.3]]\n",
      "direction and error are  -1 -2.0\n",
      "weights after changing [[-0.5, 1.5, -0.2]]\n",
      "weights of hidden layer [[[-0.5, 1.5, -0.2]]]\n",
      "None\n",
      "[-1, -1.5] [-1]\n",
      "weights of hidden layer [[[-0.5, 1.5, -0.2]]]\n",
      "None\n",
      "[-2, -1] [-1]\n",
      "weights of hidden layer [[[-0.5, 1.5, -0.2]]]\n",
      "None\n",
      "[-2, 1] [1]\n",
      "weights of hidden layer [[[-0.5, 1.5, -0.2]]]\n",
      "None\n",
      "[1.5, 0.5] [1]\n",
      "running the change in weights\n",
      "weights before change [[-0.5, 1.5, -0.2]]\n",
      "direction and error are  1 2.0\n",
      "weights after changing [[0.25, 1.75, 0.3]]\n",
      "weights of hidden layer [[[0.25, 1.75, 0.3]]]\n",
      "None\n"
     ]
    }
   ],
   "source": [
    "x_train = [[1,1],[2,-2],[-1,-1.5],[-2,-1],[-2,1],[1.5,0.5]]\n",
    "y_train = [[1],[-1],[-1],[-1],[1],[1]]\n",
    "a.train(x_train,y_train)"
   ]
  },
  {
   "cell_type": "code",
   "execution_count": 10,
   "id": "02f0b9e2-38c6-4c9c-aac0-89c43113d327",
   "metadata": {},
   "outputs": [
    {
     "data": {
      "text/plain": [
       "array([-1.])"
      ]
     },
     "execution_count": 10,
     "metadata": {},
     "output_type": "execute_result"
    }
   ],
   "source": [
    "a.predict([-1,-2.0])"
   ]
  },
  {
   "cell_type": "code",
   "execution_count": null,
   "id": "648e153c-98fc-4e00-a258-7037b6fc771e",
   "metadata": {},
   "outputs": [],
   "source": []
  },
  {
   "cell_type": "code",
   "execution_count": null,
   "id": "3fb6da2b-5af7-4688-b7ef-9d1fbeb1623c",
   "metadata": {},
   "outputs": [],
   "source": []
  },
  {
   "cell_type": "code",
   "execution_count": null,
   "id": "f5a7f2dd-18eb-4036-8b26-919511707c88",
   "metadata": {},
   "outputs": [],
   "source": [
    "\n"
   ]
  },
  {
   "cell_type": "code",
   "execution_count": 10,
   "id": "b92ab48f-5688-431e-9a76-fcaec389ef61",
   "metadata": {},
   "outputs": [],
   "source": []
  },
  {
   "cell_type": "code",
   "execution_count": null,
   "id": "299d49f0-4c90-44a2-bc95-7052bb89c44e",
   "metadata": {},
   "outputs": [],
   "source": []
  },
  {
   "cell_type": "code",
   "execution_count": null,
   "id": "d6852790-3d6a-4f6d-96ea-f40943d79b56",
   "metadata": {},
   "outputs": [],
   "source": []
  }
 ],
 "metadata": {
  "kernelspec": {
   "display_name": "Python 3",
   "language": "python",
   "name": "python3"
  },
  "language_info": {
   "codemirror_mode": {
    "name": "ipython",
    "version": 3
   },
   "file_extension": ".py",
   "mimetype": "text/x-python",
   "name": "python",
   "nbconvert_exporter": "python",
   "pygments_lexer": "ipython3",
   "version": "3.9.5"
  }
 },
 "nbformat": 4,
 "nbformat_minor": 5
}
