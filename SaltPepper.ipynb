{
 "cells": [
  {
   "cell_type": "code",
   "execution_count": 14,
   "metadata": {},
   "outputs": [],
   "source": [
    "import random\n",
    "import cv2\n",
    "from skimage.transform import rescale, resize\n",
    "from skimage import io\n",
    "from skimage import data\n",
    "from PIL import Image as im\n",
    "\n",
    "def salt_and_pepper(img):\n",
    "\n",
    "    row , col = img.shape\n",
    "    \n",
    "    number_of_pixels = random.randint(100,10000)\n",
    "    for i in range(number_of_pixels):\n",
    "\n",
    "        y_coord=random.randint(0, row - 1)\n",
    "        x_coord=random.randint(0, col - 1)\n",
    "        img[y_coord][x_coord] = 255\n",
    "\n",
    "    number_of_pixels = random.randint(100,10000)\n",
    "    \n",
    "    for i in range(number_of_pixels):\n",
    "        \n",
    "        y_coord=random.randint(0, row - 1)\n",
    "        x_coord=random.randint(0, col - 1)\n",
    "        img[y_coord][x_coord] = 0\n",
    "    \n",
    "    return img\n"
   ]
  },
  {
   "cell_type": "code",
   "execution_count": 15,
   "metadata": {},
   "outputs": [],
   "source": [
    "img = cv2.imread('cannonbolt.png',cv2.IMREAD_GRAYSCALE)\n",
    "img=cv2.resize(img,(256,256))"
   ]
  },
  {
   "cell_type": "code",
   "execution_count": 17,
   "metadata": {},
   "outputs": [
    {
     "data": {
      "text/plain": [
       "True"
      ]
     },
     "execution_count": 17,
     "metadata": {},
     "output_type": "execute_result"
    }
   ],
   "source": [
    "cv2.imwrite('salt-and-pepper-lena.jpg',salt_and_pepper(img))"
   ]
  },
  {
   "cell_type": "code",
   "execution_count": null,
   "metadata": {},
   "outputs": [],
   "source": []
  }
 ],
 "metadata": {
  "kernelspec": {
   "display_name": "Python 3",
   "language": "python",
   "name": "python3"
  },
  "language_info": {
   "codemirror_mode": {
    "name": "ipython",
    "version": 3
   },
   "file_extension": ".py",
   "mimetype": "text/x-python",
   "name": "python",
   "nbconvert_exporter": "python",
   "pygments_lexer": "ipython3",
   "version": "3.8.5"
  }
 },
 "nbformat": 4,
 "nbformat_minor": 4
}
